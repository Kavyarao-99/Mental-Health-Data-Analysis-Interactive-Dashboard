{
  "nbformat": 4,
  "nbformat_minor": 0,
  "metadata": {
    "colab": {
      "provenance": []
    },
    "kernelspec": {
      "name": "python3",
      "display_name": "Python 3"
    },
    "language_info": {
      "name": "python"
    }
  },
  "cells": [
    {
      "cell_type": "code",
      "execution_count": null,
      "metadata": {
        "id": "oVwqVrww1MZI"
      },
      "outputs": [],
      "source": [
        "import pandas as pd\n",
        "import numpy as np\n",
        "\n",
        "from google.colab import files\n",
        "uploaded = files.upload()\n",
        "\n",
        "data = pd.read_csv('Mental Health Dataset.csv')\n",
        "data\n",
        "\n",
        "data.info()\n",
        "\n",
        "# Check for missing values\n",
        "data.isnull().sum()\n",
        "\n",
        "data['Gender'].unique()\n",
        "\n",
        "#Q1. What % of people with family history of mental illness sought treatment?\n",
        "\n",
        "# Filter and group\n",
        "family_treatment = data.groupby(['family_history', 'treatment']).size().unstack()\n",
        "\n",
        "# Percentage\n",
        "(family_treatment.T / family_treatment.T.sum()).T\n",
        "\n",
        "#Q2. Treatment rate by gender\n",
        "\n",
        "gender_treatment = data.groupby(['Gender', 'treatment']).size().unstack()\n",
        "(gender_treatment.T / gender_treatment.T.sum()).T\n",
        "\n",
        "#Handle Missing Values\n",
        "\n",
        "data.loc[:, 'self_employed'] = data['self_employed'].fillna('No')\n",
        "\n",
        "#Fixing Categorial Consistency\n",
        "\n",
        "data['Gender'] = data['Gender'].str.strip().str.lower()\n",
        "\n",
        "data['Gender'] = data['Gender'].replace({\n",
        "    'male': 'Male',\n",
        "    'm': 'Male',\n",
        "    'female': 'Female',\n",
        "    'f': 'Female'\n",
        "})\n",
        "\n",
        "#Remove duplicates\n",
        "data = data.drop_duplicates()\n",
        "\n",
        "#Convert Yes/No to Binary\n",
        "\n",
        "binary_cols = ['family_history','treatment','self_employed','mental_health_interview']\n",
        "for col in binary_cols:\n",
        "  data.loc[:, col] = data[col].map({'Yes': 1, 'No': 0})"
      ]
    }
  ]
}