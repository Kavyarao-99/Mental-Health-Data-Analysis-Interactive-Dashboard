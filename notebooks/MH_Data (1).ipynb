{
  "nbformat": 4,
  "nbformat_minor": 0,
  "metadata": {
    "colab": {
      "provenance": []
    },
    "kernelspec": {
      "name": "python3",
      "display_name": "Python 3"
    },
    "language_info": {
      "name": "python"
    }
  },
  "cells": [
    {
      "cell_type": "code",
      "execution_count": null,
      "metadata": {
        "id": "oVwqVrww1MZI"
      },
      "outputs": [],
      "source": [
        "import pandas as pd\n",
        "import numpy as np\n"
      ]
    },
    {
      "cell_type": "code",
      "source": [
        "from google.colab import files\n",
        "uploaded = files.upload()"
      ],
      "metadata": {
        "id": "73OJFc7F13J7"
      },
      "execution_count": null,
      "outputs": []
    },
    {
      "cell_type": "code",
      "source": [
        "data = pd.read_csv('Mental Health Dataset.csv')\n",
        "data"
      ],
      "metadata": {
        "id": "FmzQvIRE41_N"
      },
      "execution_count": null,
      "outputs": []
    },
    {
      "cell_type": "code",
      "source": [
        "data.info()"
      ],
      "metadata": {
        "id": "jEYlBRne6-5_"
      },
      "execution_count": null,
      "outputs": []
    },
    {
      "cell_type": "code",
      "source": [
        "# Check for missing values\n",
        "data.isnull().sum()"
      ],
      "metadata": {
        "id": "ciqiwSTE7Y_r"
      },
      "execution_count": null,
      "outputs": []
    },
    {
      "cell_type": "code",
      "source": [
        "data['Gender'].unique()\n"
      ],
      "metadata": {
        "id": "E2uXBHus-UeA"
      },
      "execution_count": null,
      "outputs": []
    },
    {
      "cell_type": "code",
      "source": [
        "#Q1. What % of people with family history of mental illness sought treatment?\n",
        "\n",
        "# Filter and group\n",
        "family_treatment = data.groupby(['family_history', 'treatment']).size().unstack()\n",
        "\n",
        "# Percentage\n",
        "(family_treatment.T / family_treatment.T.sum()).T\n"
      ],
      "metadata": {
        "id": "zNcVgGJX8RO2"
      },
      "execution_count": null,
      "outputs": []
    },
    {
      "cell_type": "code",
      "source": [
        "#Q2. Treatment rate by gender\n",
        "\n",
        "gender_treatment = data.groupby(['Gender', 'treatment']).size().unstack()\n",
        "(gender_treatment.T / gender_treatment.T.sum()).T\n"
      ],
      "metadata": {
        "id": "FVcHzgTF8uz6"
      },
      "execution_count": null,
      "outputs": []
    },
    {
      "cell_type": "code",
      "source": [
        "#Handle Missing Values\n",
        "\n",
        "data.loc[:, 'self_employed'] = data['self_employed'].fillna('No')\n",
        "\n"
      ],
      "metadata": {
        "id": "AV1brDE-EawM"
      },
      "execution_count": null,
      "outputs": []
    },
    {
      "cell_type": "code",
      "source": [
        "#Fixing Categorial Consistency\n",
        "\n",
        "data['Gender'] = data['Gender'].str.strip().str.lower()\n",
        "\n",
        "data['Gender'] = data['Gender'].replace({\n",
        "    'male': 'Male',\n",
        "    'm': 'Male',\n",
        "    'female': 'Female',\n",
        "    'f': 'Female'\n",
        "})\n"
      ],
      "metadata": {
        "id": "W11xPB_JJrdO"
      },
      "execution_count": null,
      "outputs": []
    },
    {
      "cell_type": "code",
      "source": [
        "#Remove duplicates\n",
        "\n",
        "data = data.drop_duplicates()"
      ],
      "metadata": {
        "id": "iUOxQA_nKVPe"
      },
      "execution_count": null,
      "outputs": []
    },
    {
      "cell_type": "code",
      "source": [
        "#Convert Yes/No to Binary\n",
        "\n",
        "binary_cols = ['family_history','treatment','self_employed','mental_health_interview']\n",
        "\n",
        "for col in binary_cols:\n",
        "  data.loc[:, col] = data[col].map({'Yes': 1, 'No': 0})\n",
        "\n"
      ],
      "metadata": {
        "id": "9dIZJCwELD1k"
      },
      "execution_count": null,
      "outputs": []
    }
  ]
}